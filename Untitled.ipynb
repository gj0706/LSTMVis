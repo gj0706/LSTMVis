{
 "cells": [
  {
   "cell_type": "code",
   "execution_count": 16,
   "metadata": {},
   "outputs": [
    {
     "ename": "ModuleNotFoundError",
     "evalue": "No module named 'helper_functions'",
     "output_type": "error",
     "traceback": [
      "\u001b[0;31m---------------------------------------------------------------------------\u001b[0m",
      "\u001b[0;31mModuleNotFoundError\u001b[0m                       Traceback (most recent call last)",
      "\u001b[0;32m<ipython-input-16-89ac33b04219>\u001b[0m in \u001b[0;36m<module>\u001b[0;34m\u001b[0m\n\u001b[1;32m      7\u001b[0m \u001b[0;32mfrom\u001b[0m \u001b[0mflask\u001b[0m \u001b[0;32mimport\u001b[0m \u001b[0msend_from_directory\u001b[0m\u001b[0;34m,\u001b[0m \u001b[0mredirect\u001b[0m\u001b[0;34m\u001b[0m\u001b[0;34m\u001b[0m\u001b[0m\n\u001b[1;32m      8\u001b[0m \u001b[0;34m\u001b[0m\u001b[0m\n\u001b[0;32m----> 9\u001b[0;31m \u001b[0;32mfrom\u001b[0m \u001b[0mlstmdata\u001b[0m\u001b[0;34m.\u001b[0m\u001b[0mdata_handler\u001b[0m \u001b[0;32mimport\u001b[0m \u001b[0mLSTMDataHandler\u001b[0m\u001b[0;34m\u001b[0m\u001b[0;34m\u001b[0m\u001b[0m\n\u001b[0m\u001b[1;32m     10\u001b[0m \u001b[0;32mimport\u001b[0m \u001b[0mlstmdata\u001b[0m\u001b[0;34m.\u001b[0m\u001b[0mread_index\u001b[0m \u001b[0;32mas\u001b[0m \u001b[0mri\u001b[0m\u001b[0;34m\u001b[0m\u001b[0;34m\u001b[0m\u001b[0m\n",
      "\u001b[0;32m~/Documents/TTU_study/Fall2019/my_research/LSTMVis/lstmdata/data_handler.py\u001b[0m in \u001b[0;36m<module>\u001b[0;34m\u001b[0m\n\u001b[1;32m      9\u001b[0m \u001b[0;32mimport\u001b[0m \u001b[0mre\u001b[0m\u001b[0;34m\u001b[0m\u001b[0;34m\u001b[0m\u001b[0m\n\u001b[1;32m     10\u001b[0m \u001b[0;34m\u001b[0m\u001b[0m\n\u001b[0;32m---> 11\u001b[0;31m \u001b[0;32mimport\u001b[0m \u001b[0mhelper_functions\u001b[0m \u001b[0;32mas\u001b[0m \u001b[0mhf\u001b[0m\u001b[0;34m\u001b[0m\u001b[0;34m\u001b[0m\u001b[0m\n\u001b[0m\u001b[1;32m     12\u001b[0m \u001b[0;34m\u001b[0m\u001b[0m\n\u001b[1;32m     13\u001b[0m \u001b[0m__author__\u001b[0m \u001b[0;34m=\u001b[0m \u001b[0;34m'Hendrik Strobelt'\u001b[0m\u001b[0;34m\u001b[0m\u001b[0;34m\u001b[0m\u001b[0m\n",
      "\u001b[0;31mModuleNotFoundError\u001b[0m: No module named 'helper_functions'"
     ]
    }
   ],
   "source": [
    "import argparse\n",
    "\n",
    "# import connexion\n",
    "import numpy as np\n",
    "import os\n",
    "import yaml\n",
    "from flask import send_from_directory, redirect\n",
    "\n",
    "from lstmdata.data_handler import LSTMDataHandler\n",
    "import lstmdata.read_index as ri"
   ]
  },
  {
   "cell_type": "code",
   "execution_count": 14,
   "metadata": {
    "scrolled": false
   },
   "outputs": [
    {
     "ename": "NameError",
     "evalue": "name 'app' is not defined",
     "output_type": "error",
     "traceback": [
      "\u001b[0;31m---------------------------------------------------------------------------\u001b[0m",
      "\u001b[0;31mNameError\u001b[0m                                 Traceback (most recent call last)",
      "\u001b[0;32m<ipython-input-14-49a449eea553>\u001b[0m in \u001b[0;36m<module>\u001b[0;34m\u001b[0m\n\u001b[1;32m    143\u001b[0m \u001b[0;34m\u001b[0m\u001b[0m\n\u001b[1;32m    144\u001b[0m \u001b[0;34m\u001b[0m\u001b[0m\n\u001b[0;32m--> 145\u001b[0;31m \u001b[0;34m@\u001b[0m\u001b[0mapp\u001b[0m\u001b[0;34m.\u001b[0m\u001b[0mroute\u001b[0m\u001b[0;34m(\u001b[0m\u001b[0;34m'/client/<path:path>'\u001b[0m\u001b[0;34m)\u001b[0m \u001b[0;31m# Route: a mapping of URLs to Python functions\u001b[0m\u001b[0;34m\u001b[0m\u001b[0;34m\u001b[0m\u001b[0m\n\u001b[0m\u001b[1;32m    146\u001b[0m \u001b[0;32mdef\u001b[0m \u001b[0msend_static\u001b[0m\u001b[0;34m(\u001b[0m\u001b[0mpath\u001b[0m\u001b[0;34m)\u001b[0m\u001b[0;34m:\u001b[0m \u001b[0;31m# View function: function that handles application URL\u001b[0m\u001b[0;34m\u001b[0m\u001b[0;34m\u001b[0m\u001b[0m\n\u001b[1;32m    147\u001b[0m     \"\"\" serves all files from ./client/ to ``/client/<path:path>``\n",
      "\u001b[0;31mNameError\u001b[0m: name 'app' is not defined"
     ]
    }
   ],
   "source": [
    "__author__ = 'Hendrik Strobelt'\n",
    "\n",
    "CONFIG_FILE_NAME = 'lstm.yml'\n",
    "data_handlers = {}\n",
    "index_map = {}\n",
    "\n",
    "app = connexion.App(__name__, debug=True)\n",
    "\n",
    "\n",
    "def get_context(**request):\n",
    "    '''\n",
    "\n",
    "    :param request: a dictionary\n",
    "    eg.: \"request\": {\n",
    "    \"activation\": 0.3,\n",
    "    \"cells\": [\n",
    "      2\n",
    "    ],\n",
    "    \"dims\": [\n",
    "      \"states\",\n",
    "      \"words\"\n",
    "    ],\n",
    "    \"left\": 3,\n",
    "    \"pos\": [\n",
    "      12\n",
    "    ],\n",
    "    \"project\": \"ptb_word\",\n",
    "    \"right\": 3,\n",
    "    \"source\": \"states::states1\",\n",
    "    \"transform\": \"tanh\"\n",
    "  }\n",
    "    :return:\n",
    "    '''\n",
    "    project = request['project']\n",
    "    if project not in data_handlers:\n",
    "        return 'No such project', 404\n",
    "    else:\n",
    "        dh = data_handlers[project]  # type: LSTMDataHandler\n",
    "\n",
    "        # check if source is exists\n",
    "        if not dh.is_valid_source(request['source']):\n",
    "            return 'No valid source. Valid are: ' + ' -- '.join(dh.valid_sources()), 404\n",
    "\n",
    "        # cell selection by bitmask vs. cell array\n",
    "        cells = []\n",
    "        if 'bitmask' in request:\n",
    "            cells = np.where(np.fromstring(request['bitmask'], dtype=np.uint8) > 48)[0].tolist()\n",
    "        elif 'cells' in request:\n",
    "            cells = request['cells']\n",
    "\n",
    "        res = dh.get_dimensions(\n",
    "            pos_array=request['pos'],\n",
    "            source=request['source'],\n",
    "            left=request['left'],\n",
    "            right=request['right'],\n",
    "            dimensions=request['dims'],\n",
    "            data_transform=request['transform'],\n",
    "            cells=cells,\n",
    "            activation_threshold=request['activation']\n",
    "        )\n",
    "        res['cells'] = cells\n",
    "\n",
    "        return {'request': request, 'results': res}\n",
    "\n",
    "\n",
    "def get_info():\n",
    "    res = []\n",
    "    for key, project in data_handlers.iteritems():\n",
    "        # print key\n",
    "        res.append({\n",
    "            'project': key,\n",
    "            'info': project.config\n",
    "        })\n",
    "    return sorted(res, key=lambda x: x['project'])\n",
    "\n",
    "\n",
    "def search(**request):\n",
    "    project = request['project']\n",
    "    res = {}\n",
    "\n",
    "    if project not in data_handlers:\n",
    "        return 'No such project', 404\n",
    "\n",
    "    else:\n",
    "        # start search either using index or regex\n",
    "\n",
    "        dh = data_handlers[project]\n",
    "        if project in index_map:\n",
    "            res = ri.query_index(request['q'], request['limit'], request['html'],\n",
    "                                 dir=index_map[project])\n",
    "        elif dh.config['etc']['regex_search']:\n",
    "            res = dh.regex_search(request['q'], request['limit'], request['html'])\n",
    "\n",
    "    return {'request': request, 'res': res}\n",
    "\n",
    "\n",
    "def match(**request):\n",
    "    project = request['project']\n",
    "    res = {}\n",
    "\n",
    "    if project not in data_handlers:\n",
    "        return 'No such project', 404\n",
    "\n",
    "    else:\n",
    "        dh = data_handlers[project]  # type: LSTMDataHandler\n",
    "\n",
    "        # check if source is exists\n",
    "        if not dh.is_valid_source(request['source']):\n",
    "            return 'No valid source', 404\n",
    "\n",
    "        ranking, meta = dh.query_similar_activations(\n",
    "            source=request['source'],\n",
    "            cells=request['cells'],\n",
    "            activation_threshold=request['activation'],\n",
    "            data_transform=request['transform'],\n",
    "            phrase_length=request['phrase_length'],\n",
    "            add_histograms=True,\n",
    "            query_mode=request['mode'],\n",
    "            constrain_left=request['constraints'][0] > 0,\n",
    "            constrain_right=request['constraints'][1] > 0\n",
    "        )\n",
    "\n",
    "        request_positions = map(lambda x: x['pos'], ranking)\n",
    "        position_details = dh.get_dimensions(\n",
    "            pos_array=request_positions,\n",
    "            source=request['source'],\n",
    "            left=request['left'],\n",
    "            right=request['right'],\n",
    "            cells=request['cells'],\n",
    "            dimensions=request['dims'],\n",
    "            data_transform=request['transform'],\n",
    "            activation_threshold=request['activation']\n",
    "        )\n",
    "\n",
    "        res = {\n",
    "            'rankingDetail': ranking,\n",
    "            'positionDetail': position_details,\n",
    "            'fuzzyLengthHistogram': meta['fuzzy_length_histogram'].tolist(),\n",
    "            'strictLengthHistogram': meta['strict_length_histogram'].tolist()\n",
    "        }\n",
    "\n",
    "        return {'request': request, 'results': res}\n",
    "\n",
    "\n",
    "@app.route('/client/<path:path>') # Route: a mapping of URLs to Python functions\n",
    "def send_static(path): # View function: function that handles application URL\n",
    "    \"\"\" serves all files from ./client/ to ``/client/<path:path>``\n",
    "\n",
    "    :param path: path from api call\n",
    "    \"\"\"\n",
    "    return send_from_directory('client/', path)\n",
    "\n",
    "@app.route('/')\n",
    "def redirect_home():\n",
    "    return redirect('/client/index.html', code=302)\n",
    "\n",
    "\n",
    "def create_data_handlers(directory):\n",
    "    \"\"\"\n",
    "    searches for CONFIG_FILE_NAME in all subdirectories of directory\n",
    "    and creates data handlers for all of them\n",
    "\n",
    "    :param directory: scan directory\n",
    "    :return: null\n",
    "    \"\"\"\n",
    "    project_dirs = []\n",
    "    # os.walk: iterate all the files and folders under a top directory, returns a 3-element tuple of (root, dirs, files)\n",
    "    # root: current directory, dirs: a list of sub directories, files: a list of sub files\n",
    "    for root, dirs, files in os.walk(directory):\n",
    "        if CONFIG_FILE_NAME in files:\n",
    "            project_dirs.append(os.path.abspath(root)) # os.path.abspath(path) returns the absolute path of 'lstm.yml'\n",
    "\n",
    "    i = 0\n",
    "    for p_dir in project_dirs:\n",
    "        with open(os.path.join(p_dir, CONFIG_FILE_NAME), 'r') as yf:\n",
    "            config = yaml.load(yf) # config now is a dictionary\n",
    "            dh_id = os.path.split(p_dir)[1] # '05childbook'\n",
    "            data_handlers[dh_id] = LSTMDataHandler(directory=p_dir, config=config)\n",
    "            if data_handlers[dh_id].config['index']:\n",
    "                index_map[dh_id] = data_handlers[dh_id].config['index_dir'] # {'05childbook': '/Users/jaywang/Documents/TTU_study/Fall2019/LSTMVis/data/05childbook/05childbook/indexdir'}\n",
    "        i += 1\n",
    "\n",
    "\n",
    "app.add_api('lstm_server.yaml')\n",
    "\n",
    "parser = argparse.ArgumentParser()\n",
    "parser.add_argument(\"--nodebug\", default=False)\n",
    "parser.add_argument(\"--port\", default=\"8080\")\n",
    "parser.add_argument(\"--nocache\", default=False)\n",
    "parser.add_argument(\"-dir\", type=str, default=os.path.abspath('data'))\n",
    "\n",
    "if __name__ == '__main__':\n",
    "    args = parser.parse_args()\n",
    "    app.run(port=int(args.port), debug=not args.nodebug, host=\"0.0.0.0\")\n",
    "else:\n",
    "    args, _ = parser.parse_known_args()\n",
    "    create_data_handlers(args.dir)"
   ]
  },
  {
   "cell_type": "code",
   "execution_count": 17,
   "metadata": {},
   "outputs": [],
   "source": [
    "def create_data_handlers(directory):\n",
    "    \"\"\"\n",
    "    searches for CONFIG_FILE_NAME in all subdirectories of directory\n",
    "    and creates data handlers for all of them\n",
    "\n",
    "    :param directory: scan directory\n",
    "    :return: null\n",
    "    \"\"\"\n",
    "    project_dirs = []\n",
    "    # os.walk: iterate all the files and folders under a top directory, returns a 3-element tuple of (root, dirs, files)\n",
    "    # root: current directory, dirs: a list of sub directories, files: a list of sub files\n",
    "    for root, dirs, files in os.walk(directory):\n",
    "        if CONFIG_FILE_NAME in files:\n",
    "            project_dirs.append(os.path.abspath(root)) # os.path.abspath(path) returns the absolute path of 'lstm.yml'\n",
    "\n",
    "    i = 0\n",
    "    for p_dir in project_dirs:\n",
    "        with open(os.path.join(p_dir, CONFIG_FILE_NAME), 'r') as yf:\n",
    "            config = yaml.load(yf) # config now is a dictionary\n",
    "            dh_id = os.path.split(p_dir)[1] # '05childbook'\n",
    "            data_handlers[dh_id] = LSTMDataHandler(directory=p_dir, config=config)\n",
    "            if data_handlers[dh_id].config['index']:\n",
    "                index_map[dh_id] = data_handlers[dh_id].config['index_dir'] # {'05childbook': '/Users/jaywang/Documents/TTU_study/Fall2019/LSTMVis/data/05childbook/05childbook/indexdir'}\n",
    "        i += 1\n",
    "\n"
   ]
  },
  {
   "cell_type": "code",
   "execution_count": 18,
   "metadata": {},
   "outputs": [
    {
     "data": {
      "text/plain": [
       "{'activation': 0.3,\n",
       " 'cells': [2],\n",
       " 'dims': ['states', 'words'],\n",
       " 'left': 3,\n",
       " 'pos': [12],\n",
       " 'project': 'ptb_word',\n",
       " 'right': 3,\n",
       " 'source': 'states::states1',\n",
       " 'transform': 'tanh'}"
      ]
     },
     "execution_count": 18,
     "metadata": {},
     "output_type": "execute_result"
    }
   ],
   "source": [
    "request = {\n",
    "    \"activation\": 0.3,\n",
    "    \"cells\": [\n",
    "      2\n",
    "    ],\n",
    "    \"dims\": [\n",
    "      \"states\",\n",
    "      \"words\"\n",
    "    ],\n",
    "    \"left\": 3,\n",
    "    \"pos\": [\n",
    "      12\n",
    "    ],\n",
    "    \"project\": \"ptb_word\",\n",
    "    \"right\": 3,\n",
    "    \"source\": \"states::states1\",\n",
    "    \"transform\": \"tanh\"\n",
    "  }\n",
    "request"
   ]
  },
  {
   "cell_type": "code",
   "execution_count": 19,
   "metadata": {},
   "outputs": [
    {
     "data": {
      "text/plain": [
       "'ptb_word'"
      ]
     },
     "execution_count": 19,
     "metadata": {},
     "output_type": "execute_result"
    }
   ],
   "source": [
    "project = request['project']\n",
    "project"
   ]
  },
  {
   "cell_type": "code",
   "execution_count": 20,
   "metadata": {},
   "outputs": [
    {
     "ename": "KeyError",
     "evalue": "'ptb_word'",
     "output_type": "error",
     "traceback": [
      "\u001b[0;31m---------------------------------------------------------------------------\u001b[0m",
      "\u001b[0;31mKeyError\u001b[0m                                  Traceback (most recent call last)",
      "\u001b[0;32m<ipython-input-20-27c45b3ff1c5>\u001b[0m in \u001b[0;36m<module>\u001b[0;34m\u001b[0m\n\u001b[1;32m      1\u001b[0m \u001b[0mdata_handlers\u001b[0m \u001b[0;34m=\u001b[0m \u001b[0;34m{\u001b[0m\u001b[0;34m}\u001b[0m\u001b[0;34m\u001b[0m\u001b[0;34m\u001b[0m\u001b[0m\n\u001b[0;32m----> 2\u001b[0;31m \u001b[0mdh\u001b[0m \u001b[0;34m=\u001b[0m \u001b[0mdata_handlers\u001b[0m\u001b[0;34m[\u001b[0m\u001b[0mproject\u001b[0m\u001b[0;34m]\u001b[0m\u001b[0;34m\u001b[0m\u001b[0;34m\u001b[0m\u001b[0m\n\u001b[0m\u001b[1;32m      3\u001b[0m \u001b[0mdh\u001b[0m\u001b[0;34m\u001b[0m\u001b[0;34m\u001b[0m\u001b[0m\n",
      "\u001b[0;31mKeyError\u001b[0m: 'ptb_word'"
     ]
    }
   ],
   "source": [
    "data_handlers = {}\n",
    "dh = data_handlers[project]\n",
    "dh"
   ]
  },
  {
   "cell_type": "code",
   "execution_count": 21,
   "metadata": {},
   "outputs": [
    {
     "name": "stderr",
     "output_type": "stream",
     "text": [
      "/Users/jaywang/anaconda3/envs/data_science/lib/python3.7/site-packages/ipykernel_launcher.py:19: YAMLLoadWarning: calling yaml.load() without Loader=... is deprecated, as the default Loader is unsafe. Please read https://msg.pyyaml.org/load for full details.\n"
     ]
    },
    {
     "ename": "NameError",
     "evalue": "name 'LSTMDataHandler' is not defined",
     "output_type": "error",
     "traceback": [
      "\u001b[0;31m---------------------------------------------------------------------------\u001b[0m",
      "\u001b[0;31mNameError\u001b[0m                                 Traceback (most recent call last)",
      "\u001b[0;32m<ipython-input-21-cc6c60a33026>\u001b[0m in \u001b[0;36m<module>\u001b[0;34m\u001b[0m\n\u001b[0;32m----> 1\u001b[0;31m \u001b[0mf\u001b[0m \u001b[0;34m=\u001b[0m \u001b[0mcreate_data_handlers\u001b[0m\u001b[0;34m(\u001b[0m\u001b[0;34m'/Users/jaywang/Documents/TTU_study/Fall2019/LSTMVis/data/05childbook/'\u001b[0m\u001b[0;34m)\u001b[0m\u001b[0;34m\u001b[0m\u001b[0;34m\u001b[0m\u001b[0m\n\u001b[0m",
      "\u001b[0;32m<ipython-input-17-14592abecff5>\u001b[0m in \u001b[0;36mcreate_data_handlers\u001b[0;34m(directory)\u001b[0m\n\u001b[1;32m     19\u001b[0m             \u001b[0mconfig\u001b[0m \u001b[0;34m=\u001b[0m \u001b[0myaml\u001b[0m\u001b[0;34m.\u001b[0m\u001b[0mload\u001b[0m\u001b[0;34m(\u001b[0m\u001b[0myf\u001b[0m\u001b[0;34m)\u001b[0m \u001b[0;31m# config now is a dictionary\u001b[0m\u001b[0;34m\u001b[0m\u001b[0;34m\u001b[0m\u001b[0m\n\u001b[1;32m     20\u001b[0m             \u001b[0mdh_id\u001b[0m \u001b[0;34m=\u001b[0m \u001b[0mos\u001b[0m\u001b[0;34m.\u001b[0m\u001b[0mpath\u001b[0m\u001b[0;34m.\u001b[0m\u001b[0msplit\u001b[0m\u001b[0;34m(\u001b[0m\u001b[0mp_dir\u001b[0m\u001b[0;34m)\u001b[0m\u001b[0;34m[\u001b[0m\u001b[0;36m1\u001b[0m\u001b[0;34m]\u001b[0m \u001b[0;31m# '05childbook'\u001b[0m\u001b[0;34m\u001b[0m\u001b[0;34m\u001b[0m\u001b[0m\n\u001b[0;32m---> 21\u001b[0;31m             \u001b[0mdata_handlers\u001b[0m\u001b[0;34m[\u001b[0m\u001b[0mdh_id\u001b[0m\u001b[0;34m]\u001b[0m \u001b[0;34m=\u001b[0m \u001b[0mLSTMDataHandler\u001b[0m\u001b[0;34m(\u001b[0m\u001b[0mdirectory\u001b[0m\u001b[0;34m=\u001b[0m\u001b[0mp_dir\u001b[0m\u001b[0;34m,\u001b[0m \u001b[0mconfig\u001b[0m\u001b[0;34m=\u001b[0m\u001b[0mconfig\u001b[0m\u001b[0;34m)\u001b[0m\u001b[0;34m\u001b[0m\u001b[0;34m\u001b[0m\u001b[0m\n\u001b[0m\u001b[1;32m     22\u001b[0m             \u001b[0;32mif\u001b[0m \u001b[0mdata_handlers\u001b[0m\u001b[0;34m[\u001b[0m\u001b[0mdh_id\u001b[0m\u001b[0;34m]\u001b[0m\u001b[0;34m.\u001b[0m\u001b[0mconfig\u001b[0m\u001b[0;34m[\u001b[0m\u001b[0;34m'index'\u001b[0m\u001b[0;34m]\u001b[0m\u001b[0;34m:\u001b[0m\u001b[0;34m\u001b[0m\u001b[0;34m\u001b[0m\u001b[0m\n\u001b[1;32m     23\u001b[0m                 \u001b[0mindex_map\u001b[0m\u001b[0;34m[\u001b[0m\u001b[0mdh_id\u001b[0m\u001b[0;34m]\u001b[0m \u001b[0;34m=\u001b[0m \u001b[0mdata_handlers\u001b[0m\u001b[0;34m[\u001b[0m\u001b[0mdh_id\u001b[0m\u001b[0;34m]\u001b[0m\u001b[0;34m.\u001b[0m\u001b[0mconfig\u001b[0m\u001b[0;34m[\u001b[0m\u001b[0;34m'index_dir'\u001b[0m\u001b[0;34m]\u001b[0m \u001b[0;31m# {'05childbook': '/Users/jaywang/Documents/TTU_study/Fall2019/LSTMVis/data/05childbook/05childbook/indexdir'}\u001b[0m\u001b[0;34m\u001b[0m\u001b[0;34m\u001b[0m\u001b[0m\n",
      "\u001b[0;31mNameError\u001b[0m: name 'LSTMDataHandler' is not defined"
     ]
    }
   ],
   "source": [
    "f = create_data_handlers('/Users/jaywang/Documents/TTU_study/Fall2019/LSTMVis/data/05childbook/')"
   ]
  },
  {
   "cell_type": "code",
   "execution_count": null,
   "metadata": {},
   "outputs": [],
   "source": []
  },
  {
   "cell_type": "code",
   "execution_count": 5,
   "metadata": {},
   "outputs": [
    {
     "data": {
      "text/plain": [
       "ArgumentParser(prog='ipykernel_launcher.py', usage=None, description=None, formatter_class=<class 'argparse.HelpFormatter'>, conflict_handler='error', add_help=True)"
      ]
     },
     "execution_count": 5,
     "metadata": {},
     "output_type": "execute_result"
    }
   ],
   "source": [
    "parser = argparse.ArgumentParser()\n",
    "parser"
   ]
  },
  {
   "cell_type": "code",
   "execution_count": 6,
   "metadata": {},
   "outputs": [
    {
     "data": {
      "text/plain": [
       "_StoreAction(option_strings=['-dir'], dest='dir', nargs=None, const=None, default='/Users/jaywang/Documents/TTU_study/Fall2019/LSTMVis/data', type=<class 'str'>, choices=None, help=None, metavar=None)"
      ]
     },
     "execution_count": 6,
     "metadata": {},
     "output_type": "execute_result"
    }
   ],
   "source": [
    "parser.add_argument(\"--nodebug\", default=False)\n",
    "parser.add_argument(\"--port\", default=\"8080\")\n",
    "parser.add_argument(\"--nocache\", default=False)\n",
    "parser.add_argument(\"-dir\", type=str, default=os.path.abspath('data'))"
   ]
  },
  {
   "cell_type": "code",
   "execution_count": 13,
   "metadata": {},
   "outputs": [
    {
     "name": "stderr",
     "output_type": "stream",
     "text": [
      "usage: ipykernel_launcher.py [-h] [--nodebug NODEBUG] [--port PORT]\n",
      "                             [--nocache NOCACHE] [-dir DIR]\n",
      "ipykernel_launcher.py: error: unrecognized arguments: -f /Users/jaywang/Library/Jupyter/runtime/kernel-97590105-4db5-4ec3-adad-d6ba6c892e2e.json\n"
     ]
    },
    {
     "ename": "SystemExit",
     "evalue": "2",
     "output_type": "error",
     "traceback": [
      "An exception has occurred, use %tb to see the full traceback.\n",
      "\u001b[0;31mSystemExit\u001b[0m\u001b[0;31m:\u001b[0m 2\n"
     ]
    }
   ],
   "source": [
    "args = parser.parse_args()\n"
   ]
  },
  {
   "cell_type": "code",
   "execution_count": 16,
   "metadata": {},
   "outputs": [],
   "source": [
    "CONFIG_FILE_NAME = 'lstm.yml'\n",
    "def create_data_handlers(directory):\n",
    "    \"\"\"\n",
    "    searches for CONFIG_FILE_NAME in all subdirectories of directory\n",
    "    and creates data handlers for all of them\n",
    "\n",
    "    :param directory: scan directory\n",
    "    :return: null\n",
    "    \"\"\"\n",
    "    project_dirs = []\n",
    "    for root, dirs, files in os.walk(directory):\n",
    "        if CONFIG_FILE_NAME in files:\n",
    "            project_dirs.append(os.path.abspath(root))\n",
    "\n",
    "    i = 0\n",
    "    for p_dir in project_dirs:\n",
    "        with open(os.path.join(p_dir, CONFIG_FILE_NAME), 'r') as yf:\n",
    "            config = yaml.load(yf)\n",
    "            dh_id = os.path.split(p_dir)[1]\n",
    "            data_handlers[dh_id] = LSTMDataHandler(directory=p_dir, config=config)\n",
    "            if data_handlers[dh_id].config['index']:\n",
    "                index_map[dh_id] = data_handlers[dh_id].config['index_dir']\n",
    "        i += 1\n",
    "\n"
   ]
  },
  {
   "cell_type": "code",
   "execution_count": 24,
   "metadata": {},
   "outputs": [
    {
     "name": "stderr",
     "output_type": "stream",
     "text": [
      "/Users/jaywang/anaconda3/envs/data_science/lib/python3.7/site-packages/ipykernel_launcher.py:18: YAMLLoadWarning: calling yaml.load() without Loader=... is deprecated, as the default Loader is unsafe. Please read https://msg.pyyaml.org/load for full details.\n"
     ]
    },
    {
     "ename": "NameError",
     "evalue": "name 'LSTMDataHandler' is not defined",
     "output_type": "error",
     "traceback": [
      "\u001b[0;31m---------------------------------------------------------------------------\u001b[0m",
      "\u001b[0;31mNameError\u001b[0m                                 Traceback (most recent call last)",
      "\u001b[0;32m<ipython-input-24-0d44573cb77c>\u001b[0m in \u001b[0;36m<module>\u001b[0;34m\u001b[0m\n\u001b[0;32m----> 1\u001b[0;31m \u001b[0mcreate_data_handlers\u001b[0m\u001b[0;34m(\u001b[0m\u001b[0;34m'/Users/jaywang/Documents/TTU_study/Fall2019/LSTMVis/data'\u001b[0m\u001b[0;34m)\u001b[0m\u001b[0;34m\u001b[0m\u001b[0;34m\u001b[0m\u001b[0m\n\u001b[0m",
      "\u001b[0;32m<ipython-input-16-4db3c0f96e03>\u001b[0m in \u001b[0;36mcreate_data_handlers\u001b[0;34m(directory)\u001b[0m\n\u001b[1;32m     18\u001b[0m             \u001b[0mconfig\u001b[0m \u001b[0;34m=\u001b[0m \u001b[0myaml\u001b[0m\u001b[0;34m.\u001b[0m\u001b[0mload\u001b[0m\u001b[0;34m(\u001b[0m\u001b[0myf\u001b[0m\u001b[0;34m)\u001b[0m\u001b[0;34m\u001b[0m\u001b[0;34m\u001b[0m\u001b[0m\n\u001b[1;32m     19\u001b[0m             \u001b[0mdh_id\u001b[0m \u001b[0;34m=\u001b[0m \u001b[0mos\u001b[0m\u001b[0;34m.\u001b[0m\u001b[0mpath\u001b[0m\u001b[0;34m.\u001b[0m\u001b[0msplit\u001b[0m\u001b[0;34m(\u001b[0m\u001b[0mp_dir\u001b[0m\u001b[0;34m)\u001b[0m\u001b[0;34m[\u001b[0m\u001b[0;36m1\u001b[0m\u001b[0;34m]\u001b[0m\u001b[0;34m\u001b[0m\u001b[0;34m\u001b[0m\u001b[0m\n\u001b[0;32m---> 20\u001b[0;31m             \u001b[0mdata_handlers\u001b[0m\u001b[0;34m[\u001b[0m\u001b[0mdh_id\u001b[0m\u001b[0;34m]\u001b[0m \u001b[0;34m=\u001b[0m \u001b[0mLSTMDataHandler\u001b[0m\u001b[0;34m(\u001b[0m\u001b[0mdirectory\u001b[0m\u001b[0;34m=\u001b[0m\u001b[0mp_dir\u001b[0m\u001b[0;34m,\u001b[0m \u001b[0mconfig\u001b[0m\u001b[0;34m=\u001b[0m\u001b[0mconfig\u001b[0m\u001b[0;34m)\u001b[0m\u001b[0;34m\u001b[0m\u001b[0;34m\u001b[0m\u001b[0m\n\u001b[0m\u001b[1;32m     21\u001b[0m             \u001b[0;32mif\u001b[0m \u001b[0mdata_handlers\u001b[0m\u001b[0;34m[\u001b[0m\u001b[0mdh_id\u001b[0m\u001b[0;34m]\u001b[0m\u001b[0;34m.\u001b[0m\u001b[0mconfig\u001b[0m\u001b[0;34m[\u001b[0m\u001b[0;34m'index'\u001b[0m\u001b[0;34m]\u001b[0m\u001b[0;34m:\u001b[0m\u001b[0;34m\u001b[0m\u001b[0;34m\u001b[0m\u001b[0m\n\u001b[1;32m     22\u001b[0m                 \u001b[0mindex_map\u001b[0m\u001b[0;34m[\u001b[0m\u001b[0mdh_id\u001b[0m\u001b[0;34m]\u001b[0m \u001b[0;34m=\u001b[0m \u001b[0mdata_handlers\u001b[0m\u001b[0;34m[\u001b[0m\u001b[0mdh_id\u001b[0m\u001b[0;34m]\u001b[0m\u001b[0;34m.\u001b[0m\u001b[0mconfig\u001b[0m\u001b[0;34m[\u001b[0m\u001b[0;34m'index_dir'\u001b[0m\u001b[0;34m]\u001b[0m\u001b[0;34m\u001b[0m\u001b[0;34m\u001b[0m\u001b[0m\n",
      "\u001b[0;31mNameError\u001b[0m: name 'LSTMDataHandler' is not defined"
     ]
    }
   ],
   "source": [
    "create_data_handlers('/Users/jaywang/Documents/TTU_study/Fall2019/LSTMVis/data')"
   ]
  },
  {
   "cell_type": "code",
   "execution_count": null,
   "metadata": {},
   "outputs": [],
   "source": []
  }
 ],
 "metadata": {
  "kernelspec": {
   "display_name": "Python 3",
   "language": "python",
   "name": "python3"
  },
  "language_info": {
   "codemirror_mode": {
    "name": "ipython",
    "version": 3
   },
   "file_extension": ".py",
   "mimetype": "text/x-python",
   "name": "python",
   "nbconvert_exporter": "python",
   "pygments_lexer": "ipython3",
   "version": "3.7.4"
  }
 },
 "nbformat": 4,
 "nbformat_minor": 2
}
